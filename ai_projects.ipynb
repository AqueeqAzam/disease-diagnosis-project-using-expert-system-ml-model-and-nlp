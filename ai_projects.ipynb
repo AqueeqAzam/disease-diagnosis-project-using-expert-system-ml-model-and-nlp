{
  "nbformat": 4,
  "nbformat_minor": 0,
  "metadata": {
    "colab": {
      "provenance": [],
      "authorship_tag": "ABX9TyMjlYavwzOtOm9QcJTGypRZ",
      "include_colab_link": true
    },
    "kernelspec": {
      "name": "python3",
      "display_name": "Python 3"
    },
    "language_info": {
      "name": "python"
    }
  },
  "cells": [
    {
      "cell_type": "markdown",
      "metadata": {
        "id": "view-in-github",
        "colab_type": "text"
      },
      "source": [
        "<a href=\"https://colab.research.google.com/github/AqueeqAzam/disease-diagnosis-project-using-expert-system-ml-model-and-nlp/blob/main/ai_projects.ipynb\" target=\"_parent\"><img src=\"https://colab.research.google.com/assets/colab-badge.svg\" alt=\"Open In Colab\"/></a>"
      ]
    },
    {
      "cell_type": "markdown",
      "source": [
        "# `Disease diagnosis project using expert system, machine learning and nlp`"
      ],
      "metadata": {
        "id": "ymW-o0zD855O"
      }
    },
    {
      "cell_type": "markdown",
      "source": [
        "`Generate random dataset`"
      ],
      "metadata": {
        "id": "szm-wBoF8yzL"
      }
    },
    {
      "cell_type": "code",
      "source": [
        "import pandas as pd\n",
        "import numpy as np\n",
        "\n",
        "# Define the number of rows\n",
        "n_rows = 10000\n",
        "\n",
        "# Define the columns\n",
        "columns = [\"Fever\", \"Cough\", \"Headache\", \"Fatigue\", \"Disease\"]\n",
        "\n",
        "# Generate the data\n",
        "data = {\n",
        "    \"Fever\": np.random.choice([True, False], n_rows),\n",
        "    \"Cough\": np.random.choice([True, False], n_rows),\n",
        "    \"Headache\": np.random.choice([True, False], n_rows),\n",
        "    \"Fatigue\": np.random.choice([True, False], n_rows),\n",
        "    \"Disease\": np.random.choice([\"COVID-19\", \"Flu\", \"Common Cold\", \"Healthy\"], n_rows)\n",
        "}\n",
        "\n",
        "# Create the DataFrame\n",
        "df = pd.DataFrame(data, columns=columns)\n",
        "\n",
        "# Save to CSV\n",
        "df.to_csv(\"medical_data.csv\", index=False)"
      ],
      "metadata": {
        "id": "66eyuMIevUoH"
      },
      "execution_count": 32,
      "outputs": []
    },
    {
      "cell_type": "markdown",
      "source": [
        "`diagnosis programming`"
      ],
      "metadata": {
        "id": "Klwb5aA49ILv"
      }
    },
    {
      "cell_type": "code",
      "source": [
        "import spacy\n",
        "import pandas as pd\n",
        "from sklearn.feature_extraction.text import TfidfVectorizer\n",
        "from sklearn.ensemble import RandomForestClassifier\n",
        "from sklearn.model_selection import train_test_split\n",
        "from sklearn.metrics import accuracy_score\n",
        "\n",
        "# Load spacy model\n",
        "nlp = spacy.load(\"en_core_web_sm\")\n",
        "\n",
        "# load medical data\n",
        "df = pd.read_csv(\"medical_data.csv\")\n",
        "\n",
        "# define expert system rules\n",
        "def expert_system(symptoms):\n",
        "  kb = {\n",
        "    \"COVID-19\": [\"Fever\", \"Cough\", \"Fatigue\"],\n",
        "    \"Flu\": [\"Fever\", \"Headache\", \"Fatigue\"],\n",
        "    \"Common Cold\": [\"Cough\", \"Headache\"],\n",
        "    \"Healthy\": []\n",
        "}\n",
        "\n",
        "\n",
        "  for diagnosis, symptoms_list in kb.items():\n",
        "    if all(symptom in symptoms for symptom in symptoms_list):\n",
        "      return diagnosis\n",
        "    else:\n",
        "      return \"Not disease found\"\n",
        "\n",
        "# define machine learning model\n",
        "def ml_model(symptoms, data):\n",
        "  # Create a TfidfVectorizer object\n",
        "  vect = TfidfVectorizer()\n",
        "\n",
        "  # Prepare the data for the model\n",
        "  # Select all columns except 'Disease' for features\n",
        "  x = data.drop(\"Disease\", axis=1)\n",
        "\n",
        "  # Convert boolean values to strings for TfidfVectorizer\n",
        "  x = x.astype(str)\n",
        "\n",
        "  # Fit and transform the training data\n",
        "  x = vect.fit_transform(x.apply(''.join, axis=1))\n",
        "\n",
        "  # Select the 'Disease' column for labels\n",
        "  y = data['Disease']\n",
        "\n",
        "  # Split the data into training and testing sets\n",
        "  x_train, x_test, y_train, y_test = train_test_split(x, y, test_size=0.2, random_state=42)\n",
        "\n",
        "  # Create and train the Random Forest model\n",
        "  model = RandomForestClassifier()\n",
        "  model.fit(x_train, y_train)\n",
        "\n",
        "\n",
        "  # Preprocess the user symptoms and make a prediction\n",
        "  processed_symptoms = ' '.join([token.text for token in nlp(symptoms) if token.is_alpha])\n",
        "  symptoms_vectorized = vect.transform([processed_symptoms])\n",
        "  prediction = model.predict(symptoms_vectorized)\n",
        "\n",
        "  return prediction[0]\n",
        "\n",
        "# Define function to analyze symptoms\n",
        "def analyze_symptoms(symptoms):\n",
        "  diagnosis = expert_system(symptoms)\n",
        "  if diagnosis == \"Not disease found\":\n",
        "    prediction = ml_model(symptoms, df)\n",
        "    return prediction\n",
        "  else:\n",
        "    return diagnosis\n",
        "\n",
        "# test the system\n",
        "data = pd.read_csv(\"medical_data.csv\")\n",
        "symptoms = input(\"Enter your symptoms: \")\n",
        "diagnosis = analyze_symptoms(symptoms)\n",
        "print(\"Diagnosis:\", diagnosis)\n",
        "\n",
        "\n",
        "\n",
        "\n",
        "\n"
      ],
      "metadata": {
        "colab": {
          "base_uri": "https://localhost:8080/"
        },
        "id": "Q53CwLIJqGxY",
        "outputId": "df05fc2c-58ab-4a10-818a-b55d0f45d03c"
      },
      "execution_count": 33,
      "outputs": [
        {
          "output_type": "stream",
          "name": "stdout",
          "text": [
            "Enter your symptoms: Fever, Headache\n",
            "Diagnosis: Common Cold\n"
          ]
        }
      ]
    }
  ]
}