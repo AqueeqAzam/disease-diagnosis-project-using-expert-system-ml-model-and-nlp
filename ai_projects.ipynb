{
  "nbformat": 4,
  "nbformat_minor": 0,
  "metadata": {
    "colab": {
      "provenance": [],
      "authorship_tag": "ABX9TyNFhgnMo41utmKtVSUdzDVc",
      "include_colab_link": true
    },
    "kernelspec": {
      "name": "python3",
      "display_name": "Python 3"
    },
    "language_info": {
      "name": "python"
    }
  },
  "cells": [
    {
      "cell_type": "markdown",
      "metadata": {
        "id": "view-in-github",
        "colab_type": "text"
      },
      "source": [
        "<a href=\"https://colab.research.google.com/github/AqueeqAzam/disease-diagnosis-project-using-expert-system-ml-model-and-nlp/blob/main/ai_projects.ipynb\" target=\"_parent\"><img src=\"https://colab.research.google.com/assets/colab-badge.svg\" alt=\"Open In Colab\"/></a>"
      ]
    },
    {
      "cell_type": "markdown",
      "source": [
        "# `Disease diagnosis project using expert system, machine learning and nlp`"
      ],
      "metadata": {
        "id": "ymW-o0zD855O"
      }
    },
    {
      "cell_type": "markdown",
      "source": [
        "# `Disease Dignosis Prectics`"
      ],
      "metadata": {
        "id": "qVt8Wec_QGqx"
      }
    },
    {
      "cell_type": "code",
      "source": [
        "import pandas as pd\n",
        "import numpy as np\n",
        "\n",
        "# Define the number of rows\n",
        "n_rows = 10000\n",
        "\n",
        "# Define the columns\n",
        "columns = [\"Fever\", \"Cough\", \"Headache\", \"Fatigue\", \"Disease\"]\n",
        "\n",
        "# Generate the data\n",
        "data = {\n",
        "    \"Fever\": np.random.choice([True, False], n_rows),\n",
        "    \"Cough\": np.random.choice([True, False], n_rows),\n",
        "    \"Headache\": np.random.choice([True, False], n_rows),\n",
        "    \"Fatigue\": np.random.choice([True, False], n_rows),\n",
        "    \"Disease\": np.random.choice([\"COVID-19\", \"Flu\", \"Common Cold\", \"Healthy\"], n_rows)\n",
        "}\n",
        "\n",
        "# Create the DataFrame\n",
        "df = pd.DataFrame(data, columns=columns)\n",
        "\n",
        "# Save to CSV\n",
        "df.to_csv(\"medical_data.csv\", index=False)"
      ],
      "metadata": {
        "id": "klbjw-V7QT7t"
      },
      "execution_count": null,
      "outputs": []
    },
    {
      "cell_type": "markdown",
      "source": [
        "`Ml Programming`"
      ],
      "metadata": {
        "id": "Jxk09Mve8wkl"
      }
    },
    {
      "cell_type": "code",
      "source": [
        "# Import necessary libraries\n",
        "import pandas as pd\n",
        "from sklearn.ensemble import RandomForestClassifier\n",
        "from sklearn.model_selection import train_test_split\n",
        "from sklearn.metrics import accuracy_score, classification_report\n",
        "\n",
        "# Load the dataset\n",
        "data = pd.read_csv('medical_data.csv')\n",
        "\n",
        "# Split the data into training and testing sets\n",
        "X = data.drop('Disease', axis=1)\n",
        "y = data['Disease']\n",
        "X_train, X_test, y_train, y_test = train_test_split(X, y, test_size=0.2, random_state=42)\n",
        "\n",
        "# Create a Random Forest Classifier\n",
        "model = RandomForestClassifier(n_estimators=100, random_state=42)\n",
        "\n",
        "# Train the model\n",
        "model.fit(X_train, y_train)\n",
        "\n",
        "# Make predictions\n",
        "predictions = model.predict(X_test)\n",
        "print(predictions)\n",
        "\n",
        "# Evaluate the model\n",
        "accuracy = accuracy_score(y_test, predictions)\n",
        "print(\"Accuracy:\", accuracy)\n"
      ],
      "metadata": {
        "colab": {
          "base_uri": "https://localhost:8080/"
        },
        "id": "lOWQ0yPXQZ14",
        "outputId": "5dff60a0-2ee2-4904-a6d7-9f31506ba3d9"
      },
      "execution_count": null,
      "outputs": [
        {
          "output_type": "stream",
          "name": "stdout",
          "text": [
            "['Common Cold' 'Healthy' 'Common Cold' ... 'Flu' 'Common Cold' 'Flu']\n",
            "Accuracy: 0.237\n"
          ]
        }
      ]
    },
    {
      "cell_type": "markdown",
      "source": [
        "`Including user input`"
      ],
      "metadata": {
        "id": "mOclDX2_86B_"
      }
    },
    {
      "cell_type": "code",
      "source": [
        "# Import necessary libraries\n",
        "import pandas as pd\n",
        "from sklearn.ensemble import RandomForestClassifier\n",
        "from sklearn.model_selection import train_test_split\n",
        "from sklearn.metrics import accuracy_score, classification_report\n",
        "\n",
        "# Load the dataset\n",
        "data = pd.read_csv('medical_data.csv')\n",
        "\n",
        "# Split the data into training and testing sets\n",
        "X = data.drop('Disease', axis=1)\n",
        "y = data['Disease']\n",
        "X_train, X_test, y_train, y_test = train_test_split(X, y, test_size=0.2, random_state=42)\n",
        "\n",
        "# Create a Random Forest Classifier\n",
        "model = RandomForestClassifier(n_estimators=100, random_state=42)\n",
        "\n",
        "# Train the model\n",
        "model.fit(X_train, y_train)\n",
        "\n",
        "# Get user input\n",
        "fever = input('Do you have fever (yes/no)? ').lower() == 'yes'  # Convert input to boolean\n",
        "cough = input('Do you have cough (yes/no)? ').lower() == 'yes'\n",
        "headache = input('Do you have headache (yes/no)? ').lower() == 'yes'\n",
        "fatigue = input('Do you have fatigue (yes/no)? ').lower() == 'yes'\n",
        "\n",
        "# Make predictions\n",
        "# Create input for prediction\n",
        "user_input = [[fever, cough, headache, fatigue]]\n",
        "\n",
        "# Convert input to DataFrame\n",
        "# user_input = pd.DataFrame(user_input, columns=['Fever', 'Cough', 'Headache', 'Fatigue'])\n",
        "\n",
        "# Make predictions\n",
        "predictions = model.predict(user_input)\n",
        "print(\"Predicted Disease:\", predictions[0])\n",
        "\n",
        "# Evaluate the model\n",
        "accuracy = accuracy_score(y_test, model.predict(X_test))\n",
        "print(\"Accuracy:\", accuracy)"
      ],
      "metadata": {
        "colab": {
          "base_uri": "https://localhost:8080/"
        },
        "id": "BL75db54SCCZ",
        "outputId": "84d7dd63-4f40-4259-9d98-d0e007dc9fd2"
      },
      "execution_count": null,
      "outputs": [
        {
          "output_type": "stream",
          "name": "stdout",
          "text": [
            "Do you have fever (yes/no)? yes\n",
            "Do you have cough (yes/no)? no\n",
            "Do you have headache (yes/no)? yes\n",
            "Do you have fatigue (yes/no)? yes\n",
            "Predicted Disease: Common Cold\n",
            "Accuracy: 0.237\n"
          ]
        },
        {
          "output_type": "stream",
          "name": "stderr",
          "text": [
            "/usr/local/lib/python3.10/dist-packages/sklearn/base.py:465: UserWarning: X does not have valid feature names, but RandomForestClassifier was fitted with feature names\n",
            "  warnings.warn(\n"
          ]
        }
      ]
    },
    {
      "cell_type": "markdown",
      "source": [
        "`On integrating nlp`"
      ],
      "metadata": {
        "id": "j2T3g4kPfk6F"
      }
    },
    {
      "cell_type": "code",
      "source": [
        "# Import necessary libraries\n",
        "import pandas as pd\n",
        "from sklearn.ensemble import RandomForestClassifier\n",
        "from sklearn.model_selection import train_test_split\n",
        "from sklearn.metrics import accuracy_score, classification_report\n",
        "import spacy\n",
        "\n",
        "# Load the spaCy model\n",
        "nlp = spacy.load('en_core_web_sm')\n",
        "\n",
        "# Load the dataset\n",
        "data = pd.read_csv('medical_data.csv')\n",
        "\n",
        "# Split the data into training and testing sets\n",
        "X = data.drop('Disease', axis=1)\n",
        "y = data['Disease']\n",
        "X_train, X_test, y_train, y_test = train_test_split(X, y, test_size=0.2, random_state=42)\n",
        "\n",
        "# Create a Random Forest Classifier\n",
        "model = RandomForestClassifier(n_estimators=100, random_state=42)\n",
        "\n",
        "# Train the model\n",
        "model.fit(X_train, y_train)\n",
        "\n",
        "# Get user input using spaCy\n",
        "def get_user_input():\n",
        "    user_input = input('Describe your symptoms: ')\n",
        "    doc = nlp(user_input)\n",
        "    fever = any(token.text.lower() in ['fever', 'fevers', 'feverish'] for token in doc)\n",
        "    cough = any(token.text.lower() in ['cough', 'coughs', 'coughing'] for token in doc)\n",
        "    headache = any(token.text.lower() in ['headache', 'headaches'] for token in doc)\n",
        "    fatigue = any(token.text.lower() in ['fatigue', 'tired', 'tiredness'] for token in doc)\n",
        "    return [[fever, cough, headache, fatigue]]\n",
        "\n",
        "\n",
        "# Make predictions\n",
        "user_input = get_user_input()\n",
        "predictions = model.predict(user_input)\n",
        "print(\"Predicted Disease:\", predictions[0])\n",
        "\n",
        "# Evaluate the model\n",
        "accuracy = accuracy_score(y_test, model.predict(X_test))\n",
        "print(\"Accuracy:\", accuracy)"
      ],
      "metadata": {
        "colab": {
          "base_uri": "https://localhost:8080/"
        },
        "id": "piS9FCy-WsOq",
        "outputId": "4bfbaa10-0778-4328-b87a-31e5dabc7ec3"
      },
      "execution_count": null,
      "outputs": [
        {
          "output_type": "stream",
          "name": "stdout",
          "text": [
            "Describe your symptoms: fever\n",
            "Predicted Disease: COVID-19\n",
            "Accuracy: 0.235\n"
          ]
        },
        {
          "output_type": "stream",
          "name": "stderr",
          "text": [
            "/usr/local/lib/python3.10/dist-packages/sklearn/base.py:465: UserWarning: X does not have valid feature names, but RandomForestClassifier was fitted with feature names\n",
            "  warnings.warn(\n"
          ]
        }
      ]
    },
    {
      "cell_type": "markdown",
      "source": [
        "`On integrating expert system`"
      ],
      "metadata": {
        "id": "MmXJeneCgZMF"
      }
    },
    {
      "cell_type": "code",
      "source": [
        "# Import necessary libraries\n",
        "import pandas as pd\n",
        "from sklearn.ensemble import RandomForestClassifier\n",
        "from sklearn.model_selection import train_test_split\n",
        "from sklearn.metrics import accuracy_score, classification_report\n",
        "import spacy\n",
        "\n",
        "# Load the spaCy model\n",
        "nlp = spacy.load('en_core_web_sm')\n",
        "\n",
        "# Load the dataset\n",
        "data = pd.read_csv('medical_data.csv')\n",
        "\n",
        "# Split the data into training and testing sets\n",
        "X = data.drop('Disease', axis=1)\n",
        "y = data['Disease']\n",
        "X_train, X_test, y_train, y_test = train_test_split(X, y, test_size=0.2, random_state=42)\n",
        "\n",
        "# Create a Random Forest Classifier\n",
        "model = RandomForestClassifier(n_estimators=100, random_state=42)\n",
        "\n",
        "# Train the model\n",
        "model.fit(X_train, y_train)\n",
        "\n",
        "# Define the knowledge base\n",
        "knowledge_base = {\n",
        "    'COVID-19': ['fever', 'cough', 'headache', 'fatigue'],\n",
        "    'Migraine': ['severe headache', 'fever', 'fatigue'],\n",
        "    'Common Cold': ['cough', 'sore throat', 'runny nose'],\n",
        "    # Add more diseases and symptoms here\n",
        "}\n",
        "\n",
        "# Define the inference engine\n",
        "def infer_disease(symptoms):\n",
        "    for disease, disease_symptoms in knowledge_base.items():\n",
        "        if all(s in symptoms for s in disease_symptoms):\n",
        "            return disease\n",
        "    return 'No problem!, you are healthy'\n",
        "\n",
        "# Get user input using spaCy\n",
        "def get_user_input():\n",
        "    user_input = input('Describe your symptoms: ')\n",
        "    doc = nlp(user_input)\n",
        "    symptoms = [token.text.lower() for token in doc]\n",
        "    return symptoms\n",
        "\n",
        "# Make predictions\n",
        "user_input = get_user_input()\n",
        "predicted_disease = infer_disease(user_input)\n",
        "print(\"Predicted Disease:\", predicted_disease)\n",
        "\n",
        "# Evaluate the model\n",
        "accuracy = accuracy_score(y_test, model.predict(X_test))\n",
        "print(\"Accuracy:\", accuracy)"
      ],
      "metadata": {
        "id": "MYuX0e5_gdZg",
        "colab": {
          "base_uri": "https://localhost:8080/"
        },
        "outputId": "784af0c4-681f-40ae-faa3-a1528f168fa6"
      },
      "execution_count": null,
      "outputs": [
        {
          "output_type": "stream",
          "name": "stdout",
          "text": [
            "Describe your symptoms: Fever, Headach\n",
            "Predicted Disease: No problem!, you are healthy\n",
            "Accuracy: 0.235\n"
          ]
        }
      ]
    },
    {
      "cell_type": "markdown",
      "source": [
        "`Entire project with recommandation system`"
      ],
      "metadata": {
        "id": "birWJ_Mp_aQO"
      }
    },
    {
      "cell_type": "code",
      "source": [
        "# Import necessary libraries\n",
        "import pandas as pd\n",
        "from sklearn.ensemble import RandomForestClassifier\n",
        "from sklearn.model_selection import train_test_split\n",
        "from sklearn.metrics import accuracy_score, classification_report\n",
        "import spacy\n",
        "\n",
        "# Load the spaCy model\n",
        "nlp = spacy.load('en_core_web_sm')\n",
        "\n",
        "# Load the dataset\n",
        "data = pd.read_csv('medical_data.csv')\n",
        "\n",
        "# Split the data into training and testing sets\n",
        "X = data.drop('Disease', axis=1)\n",
        "y = data['Disease']\n",
        "X_train, X_test, y_train, y_test = train_test_split(X, y, test_size=0.2, random_state=42)\n",
        "\n",
        "# Create a Random Forest Classifier\n",
        "model = RandomForestClassifier(n_estimators=100, random_state=42)\n",
        "\n",
        "# Train the model\n",
        "model.fit(X_train, y_train)\n",
        "\n",
        "# Define the knowledge base\n",
        "knowledge_base = {\n",
        "    'COVID-19': ['fever', 'cough', 'headache', 'fatigue'],\n",
        "    'Migraine': ['severe headache', 'fever', 'fatigue'],\n",
        "    'Common Cold': ['cough', 'sore throat', 'runny nose'],\n",
        "    # Add more diseases and symptoms here\n",
        "}\n",
        "\n",
        "# Define the treatment knowledge base\n",
        "treatment_kb = {\n",
        "    'COVID-19': ['Rest', 'Hydration', 'Medication'],\n",
        "    'Migraine': ['Pain relief medication', 'Rest', 'Avoid triggers'],\n",
        "    'Common Cold': ['Rest', 'Hydration', 'Over-the-counter medication'],\n",
        "    # Add more diseases and treatments here\n",
        "}\n",
        "\n",
        "# Define the inference engine\n",
        "def infer_disease(symptoms):\n",
        "    for disease, disease_symptoms in knowledge_base.items():\n",
        "        if all(s in symptoms for s in disease_symptoms):\n",
        "            return disease\n",
        "    return 'No problem!, you are healthy'\n",
        "\n",
        "# Define the treatment recommendation function\n",
        "def recommend_treatment(disease):\n",
        "    return treatment_kb.get(disease, ['No treatment recommended'])\n",
        "\n",
        "# Get user input using spaCy\n",
        "def get_user_input():\n",
        "    user_input = input('Describe your symptoms: ')\n",
        "    doc = nlp(user_input)\n",
        "    symptoms = [token.text.lower() for token in doc]\n",
        "    return symptoms\n",
        "\n",
        "# Make predictions\n",
        "user_input = get_user_input()\n",
        "predicted_disease = infer_disease(user_input)\n",
        "print(\"Predicted Disease:\", predicted_disease)\n",
        "recommended_treatment = recommend_treatment(predicted_disease)\n",
        "print(\"Recommended Treatment:\", recommended_treatment)\n",
        "\n",
        "# Evaluate the model\n",
        "accuracy = accuracy_score(y_test, model.predict(X_test))\n",
        "print(\"Accuracy:\", accuracy)"
      ],
      "metadata": {
        "colab": {
          "base_uri": "https://localhost:8080/"
        },
        "id": "gKT1MVsd_NVI",
        "outputId": "c4974c83-b636-4ffd-c225-995e3ca352a8"
      },
      "execution_count": null,
      "outputs": [
        {
          "output_type": "stream",
          "name": "stdout",
          "text": [
            "Describe your symptoms: fever, cough, headache\n",
            "Predicted Disease: No problem!, you are healthy\n",
            "Recommended Treatment: ['No treatment recommended']\n",
            "Accuracy: 0.235\n"
          ]
        }
      ]
    },
    {
      "cell_type": "markdown",
      "source": [
        "`Create Pickle file`"
      ],
      "metadata": {
        "id": "8Rw0aOxWVDGN"
      }
    },
    {
      "cell_type": "code",
      "source": [
        "import pickle\n",
        "\n",
        "# Create a dictionary to store the model, knowledge base, and treatment knowledge base\n",
        "project_data = {\n",
        "    'model': model,\n",
        "    'knowledge_base': knowledge_base,\n",
        "    'treatment_kb': treatment_kb,\n",
        "    'nlp': nlp\n",
        "}\n",
        "\n",
        "# Save the dictionary to a pickle file\n",
        "with open('project_data.pkl', 'wb') as f:\n",
        "    pickle.dump(project_data, f)"
      ],
      "metadata": {
        "id": "ShUB3LwLLoDz"
      },
      "execution_count": null,
      "outputs": []
    },
    {
      "cell_type": "markdown",
      "source": [
        "# Thanks, have a nice day"
      ],
      "metadata": {
        "id": "B3agpT8EOpwA"
      }
    }
  ]
}